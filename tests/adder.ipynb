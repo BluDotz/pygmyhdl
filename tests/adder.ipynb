{
 "cells": [
  {
   "cell_type": "code",
   "execution_count": 2,
   "metadata": {},
   "outputs": [
    {
     "name": "stderr",
     "output_type": "stream",
     "text": [
      "<class 'myhdl.StopSimulation'>: No more events\n"
     ]
    },
    {
     "data": {
      "text/html": [
       "<div><script type=\"WaveDrom\">{\"signal\": [{\"wave\": \"=...=...=...=...\", \"name\": \"a\", \"data\": [\"0\", \"1\", \"2\", \"3\"]}, {\"wave\": \"================\", \"name\": \"a+b\", \"data\": [\"0\", \"1\", \"2\", \"3\", \"1\", \"2\", \"3\", \"0\", \"2\", \"3\", \"0\", \"1\", \"3\", \"0\", \"1\", \"2\"]}, {\"wave\": \"================\", \"name\": \"b\", \"data\": [\"0\", \"1\", \"2\", \"3\", \"0\", \"1\", \"2\", \"3\", \"0\", \"1\", \"2\", \"3\", \"0\", \"1\", \"2\", \"3\"]}, {\"wave\": \"=....====.=.====\", \"name\": \"c\", \"data\": [\"0\", \"2\", \"0\", \"6\", \"0\", \"4\", \"0\", \"6\", \"4\", \"6\"]}]}</script></div>"
      ]
     },
     "metadata": {},
     "output_type": "display_data"
    },
    {
     "data": {
      "application/javascript": [
       "$.getScript(\"http://wavedrom.com/wavedrom.min.js\", function () {\n",
       "$.getScript(\"http://wavedrom.com/skins/default.js\", function () {\n",
       "WaveDrom.ProcessAll();});\n",
       "});\n"
      ]
     },
     "metadata": {},
     "output_type": "display_data"
    },
    {
     "name": "stderr",
     "output_type": "stream",
     "text": [
      "c:\\python35-32\\lib\\site-packages\\ipykernel_launcher.py:50: UserWarning: \n",
      "    toVerilog(): Deprecated usage: See http://dev.myhdl.org/meps/mep-114.html\n",
      "c:\\python35-32\\lib\\site-packages\\myhdl\\conversion\\_toVerilog.py:348: ToVerilogWarning: Signal is not driven: chunk_insts_5_chunk_insts_5_c\n",
      "  category=ToVerilogWarning\n",
      "c:\\python35-32\\lib\\site-packages\\myhdl\\conversion\\_toVerilog.py:348: ToVerilogWarning: Signal is not driven: chunk_insts_5_chunk_insts_5_d\n",
      "  category=ToVerilogWarning\n",
      "c:\\python35-32\\lib\\site-packages\\myhdl\\conversion\\_toVerilog.py:348: ToVerilogWarning: Signal is not driven: chunk_insts_5_chunk_insts_5_e\n",
      "  category=ToVerilogWarning\n",
      "c:\\python35-32\\lib\\site-packages\\myhdl\\conversion\\_toVerilog.py:348: ToVerilogWarning: Signal is not driven: chunk_insts_5_chunk_insts_3_c\n",
      "  category=ToVerilogWarning\n",
      "c:\\python35-32\\lib\\site-packages\\myhdl\\conversion\\_toVerilog.py:348: ToVerilogWarning: Signal is not driven: chunk_insts_5_chunk_insts_3_d\n",
      "  category=ToVerilogWarning\n",
      "c:\\python35-32\\lib\\site-packages\\myhdl\\conversion\\_toVerilog.py:348: ToVerilogWarning: Signal is not driven: chunk_insts_5_chunk_insts_3_e\n",
      "  category=ToVerilogWarning\n",
      "c:\\python35-32\\lib\\site-packages\\myhdl\\conversion\\_toVerilog.py:348: ToVerilogWarning: Signal is not driven: chunk_insts_5_chunk_insts_1_c\n",
      "  category=ToVerilogWarning\n",
      "c:\\python35-32\\lib\\site-packages\\myhdl\\conversion\\_toVerilog.py:348: ToVerilogWarning: Signal is not driven: chunk_insts_5_chunk_insts_1_d\n",
      "  category=ToVerilogWarning\n",
      "c:\\python35-32\\lib\\site-packages\\myhdl\\conversion\\_toVerilog.py:348: ToVerilogWarning: Signal is not driven: chunk_insts_5_chunk_insts_1_e\n",
      "  category=ToVerilogWarning\n"
     ]
    },
    {
     "data": {
      "text/plain": [
       "[[<myhdl._always_comb._AlwaysComb at 0x48a1270>],\n",
       " <myhdl._always_comb._AlwaysComb at 0x48a1410>,\n",
       " [[<myhdl._always_comb._AlwaysComb at 0x48a1970>],\n",
       "  [<myhdl._always_comb._AlwaysComb at 0x48a1cd0>],\n",
       "  [<myhdl._always_comb._AlwaysComb at 0x48a15d0>],\n",
       "  [<myhdl._always_comb._AlwaysComb at 0x48a1610>],\n",
       "  [<myhdl._always_comb._AlwaysComb at 0x4988d90>],\n",
       "  [<myhdl._always_comb._AlwaysComb at 0x4988bd0>],\n",
       "  [<myhdl._always_comb._AlwaysComb at 0x4988d30>]],\n",
       " [[<myhdl._always_comb._AlwaysComb at 0x499c1f0>],\n",
       "  [<myhdl._always_comb._AlwaysComb at 0x499cb50>],\n",
       "  [<myhdl._always_comb._AlwaysComb at 0x499c050>],\n",
       "  [<myhdl._always_comb._AlwaysComb at 0x4ebb390>],\n",
       "  [<myhdl._always_comb._AlwaysComb at 0x3e76d30>],\n",
       "  [<myhdl._always_comb._AlwaysComb at 0x4ebb430>],\n",
       "  [<myhdl._always_comb._AlwaysComb at 0x4e9dbd0>]],\n",
       " [[<myhdl._always_comb._AlwaysComb at 0x499cc10>],\n",
       "  [<myhdl._always_comb._AlwaysComb at 0x499c710>],\n",
       "  [<myhdl._always_comb._AlwaysComb at 0x499c970>],\n",
       "  [<myhdl._always_comb._AlwaysComb at 0x499c3f0>],\n",
       "  [<myhdl._always_comb._AlwaysComb at 0x499c7d0>],\n",
       "  [<myhdl._always_comb._AlwaysComb at 0x499c570>],\n",
       "  [<myhdl._always_comb._AlwaysComb at 0x499c130>]],\n",
       " [[<myhdl._always_comb._AlwaysComb at 0x499c4b0>],\n",
       "  [<myhdl._always_comb._AlwaysComb at 0x499c750>],\n",
       "  [<myhdl._always_comb._AlwaysComb at 0x499cd50>],\n",
       "  [<myhdl._always_comb._AlwaysComb at 0x499cfd0>],\n",
       "  [<myhdl._always_comb._AlwaysComb at 0x499c070>],\n",
       "  [<myhdl._always_comb._AlwaysComb at 0x49ac070>],\n",
       "  [<myhdl._always_comb._AlwaysComb at 0x49ac0b0>]],\n",
       " [<myhdl._always_comb._AlwaysComb at 0x48ef2d0>]]"
      ]
     },
     "execution_count": 2,
     "metadata": {},
     "output_type": "execute_result"
    }
   ],
   "source": [
    "from pygmyhdl import *\n",
    "from pygmyhdl.gates import *\n",
    "\n",
    "initialize()\n",
    "\n",
    "@chunk\n",
    "def adder_bit(a, b, c_in, sum_out, c_out):\n",
    "    sum_a_b = Wire()\n",
    "    xor_g(sum_a_b, a, b)\n",
    "    xor_g(sum_out, c_in, sum_a_b)\n",
    "    \n",
    "    cry_a_b, cry_a_c, cry_b_c, cry_1 = Wire(), Wire(), Wire(), Wire()\n",
    "    and_g(cry_a_b, a, b)\n",
    "    and_g(cry_a_c, a, c_in)\n",
    "    and_g(cry_b_c, b, c_in)\n",
    "    or_g(cry_1, cry_a_b, cry_a_c)\n",
    "    or_g(c_out, cry_b_c, cry_1)\n",
    "\n",
    "@chunk\n",
    "def adder(a, b, sum_out):\n",
    "    num_bits = len(a)\n",
    "    #c_in = Wire(0)\n",
    "    c = Bus(num_bits+1,0,'c')\n",
    "    c.i[0] = 0\n",
    "    #adder_bit(a.o[0], b.o[0], c_in, sum_out.i[0], c.i[1])\n",
    "    for j in range(num_bits):\n",
    "        adder_bit(a.o[j], b.o[j], c.o[j], sum_out.i[j], c.i[j+1])\n",
    "        \n",
    "@chunk\n",
    "def dual_adder(a, b, sum_):\n",
    "    half_width = len(a)//2\n",
    "    adder(a.o[:half_width], b.o[:half_width], sum_.i[:half_width])\n",
    "    adder(a.o[half_width:], b.o[half_width:], sum_.i[half_width:])\n",
    "    \n",
    "a, b, sum_a_b = [Bus(2,0,name) for name in 'a b a+b'.split()]\n",
    "adder_module = adder(a, b, sum_a_b)\n",
    "\n",
    "def test():\n",
    "    for a.next in [1, 2, 3, 4]:\n",
    "        for b.next in [2, 4, 6, 8]:\n",
    "            yield delay(1)\n",
    "\n",
    "exhaustive_sim(a, b)\n",
    "#simulate(test())\n",
    "show_waveforms()\n",
    "#random_sim(16,a,b)\n",
    "#show_waveforms('a b a+b')\n",
    "\n",
    "a, b, sum_a_b = [Bus(4,0,name) for name in 'a b a+b'.split()]\n",
    "toVerilog(adder, a, b, sum_a_b)"
   ]
  },
  {
   "cell_type": "code",
   "execution_count": null,
   "metadata": {},
   "outputs": [],
   "source": [
    "c, d, sum_c_d = [Bus(4,0,name) for name in 'c d c+d'.split()]\n",
    "len(adder(c, d, sum_c_d))"
   ]
  },
  {
   "cell_type": "code",
   "execution_count": null,
   "metadata": {},
   "outputs": [],
   "source": [
    "a, b, c_in, sum_, c_out = [Wire() for _ in range(5)]\n",
    "toVHDL(adder_bit, a, b, c_in, sum_, c_out)"
   ]
  },
  {
   "cell_type": "code",
   "execution_count": null,
   "metadata": {},
   "outputs": [],
   "source": [
    "sum_c_d_2 = Bus(4)\n",
    "toVHDL(adder, c, d, sum_c_d_2)"
   ]
  },
  {
   "cell_type": "code",
   "execution_count": null,
   "metadata": {},
   "outputs": [],
   "source": [
    "@chunk\n",
    "def unrolled_adder(a, b, sum_):\n",
    "    num_bits = len(a)\n",
    "    c = Bus(num_bits+1)\n",
    "    adder_bit(a(0), b(0), c(0), sum_.i[0], c.i[1])\n",
    "    adder_bit(a(1), b(1), c(1), sum_.i[1], c.i[2])\n",
    "    adder_bit(a(2), b(2), c(2), sum_.i[2], c.i[3])\n",
    "    adder_bit(a(3), b(3), c(3), sum_.i[3], c.i[4])\n",
    "    \n",
    "len(unrolled_adder(c, d, sum_c_d))"
   ]
  },
  {
   "cell_type": "code",
   "execution_count": null,
   "metadata": {},
   "outputs": [],
   "source": [
    "c1, d1, sum_c_d1 = [Bus(4,0,name) for name in 'c d c+d'.split()]\n",
    "toVerilog(unrolled_adder, c1, d1, sum_c_d1)"
   ]
  },
  {
   "cell_type": "code",
   "execution_count": null,
   "metadata": {
    "collapsed": true
   },
   "outputs": [],
   "source": []
  }
 ],
 "metadata": {
  "kernelspec": {
   "display_name": "Python 3",
   "language": "python",
   "name": "python3"
  },
  "language_info": {
   "codemirror_mode": {
    "name": "ipython",
    "version": 3
   },
   "file_extension": ".py",
   "mimetype": "text/x-python",
   "name": "python",
   "nbconvert_exporter": "python",
   "pygments_lexer": "ipython3",
   "version": "3.5.2"
  }
 },
 "nbformat": 4,
 "nbformat_minor": 2
}
