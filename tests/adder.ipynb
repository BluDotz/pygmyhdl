{
 "cells": [
  {
   "cell_type": "code",
   "execution_count": 1,
   "metadata": {},
   "outputs": [
    {
     "name": "stderr",
     "output_type": "stream",
     "text": [
      "<class 'myhdl.StopSimulation'>: No more events\n"
     ]
    },
    {
     "data": {
      "text/html": [
       "<div><script type=\"WaveDrom\">{\"signal\": [{\"name\": \"a\", \"wave\": \"=...=...=...=...\", \"data\": [\"1\", \"2\", \"3\", \"4\"]}, {\"name\": \"b\", \"wave\": \"================\", \"data\": [\"2\", \"4\", \"6\", \"8\", \"2\", \"4\", \"6\", \"8\", \"2\", \"4\", \"6\", \"8\", \"2\", \"4\", \"6\", \"8\"]}, {\"name\": \"a+b\", \"wave\": \"================\", \"data\": [\"3\", \"5\", \"7\", \"9\", \"4\", \"6\", \"8\", \"10\", \"5\", \"7\", \"9\", \"11\", \"6\", \"8\", \"10\", \"12\"]}]}</script></div>"
      ]
     },
     "metadata": {},
     "output_type": "display_data"
    },
    {
     "data": {
      "application/javascript": [
       "$.getScript(\"http://wavedrom.com/wavedrom.min.js\", function () {\n",
       "$.getScript(\"http://wavedrom.com/skins/default.js\", function () {\n",
       "WaveDrom.ProcessAll();});\n",
       "});\n"
      ]
     },
     "metadata": {},
     "output_type": "display_data"
    }
   ],
   "source": [
    "from myhdl import *\n",
    "from pygmyhdl import *\n",
    "\n",
    "initialize()\n",
    "\n",
    "@group\n",
    "def adder_bit(a, b, c_in, sum_out, c_out):\n",
    "    sum_a_b = Wire()\n",
    "    xor_g(a, b, sum_a_b)\n",
    "    xor_g(c_in, sum_a_b, sum_out)\n",
    "    \n",
    "    cry_a_b, cry_a_c, cry_b_c, cry_1 = Wire(), Wire(), Wire(), Wire()\n",
    "    and_g(a, b, cry_a_b)\n",
    "    and_g(a, c_in, cry_a_c)\n",
    "    and_g(b, c_in, cry_b_c)\n",
    "    or_g(cry_a_b, cry_a_c, cry_1)\n",
    "    or_g(cry_b_c, cry_1, c_out)\n",
    "\n",
    "@group\n",
    "def adder(a, b, sum_out):\n",
    "    num_bits = len(a)\n",
    "    c = Bus(num_bits+1)\n",
    "    for j in range(num_bits):\n",
    "        adder_bit(a.o[j], b.o[j], c.o[j], sum_out.i[j], c.i[j+1])\n",
    "    \n",
    "a, b, sum_a_b = [Bus(4,name) for name in 'a b a+b'.split()]\n",
    "adder_module = adder(a, b, sum_a_b)\n",
    "\n",
    "def test():\n",
    "    for a.next in [1, 2, 3, 4]:\n",
    "        for b.next in [2, 4, 6, 8]:\n",
    "            yield delay(1)\n",
    "            \n",
    "simulate(test())\n",
    "#random_sim(16,a,b)\n",
    "show_waveforms('a b a+b')"
   ]
  },
  {
   "cell_type": "code",
   "execution_count": 2,
   "metadata": {},
   "outputs": [
    {
     "data": {
      "text/plain": [
       "6"
      ]
     },
     "execution_count": 2,
     "metadata": {},
     "output_type": "execute_result"
    }
   ],
   "source": [
    "c, d, sum_c_d = [Bus(4,name) for name in 'c d c+d'.split()]\n",
    "len(adder(c, d, sum_c_d))"
   ]
  },
  {
   "cell_type": "code",
   "execution_count": 3,
   "metadata": {},
   "outputs": [
    {
     "data": {
      "text/plain": [
       "[<myhdl._always_comb._AlwaysComb at 0x4712eb0>,\n",
       " <myhdl._always_comb._AlwaysComb at 0x47128d0>,\n",
       " <myhdl._always_comb._AlwaysComb at 0x4712f90>,\n",
       " <myhdl._always_comb._AlwaysComb at 0x4712f70>,\n",
       " <myhdl._always_comb._AlwaysComb at 0x4721050>,\n",
       " <myhdl._always_comb._AlwaysComb at 0x4721070>,\n",
       " <myhdl._always_comb._AlwaysComb at 0x47210b0>]"
      ]
     },
     "execution_count": 3,
     "metadata": {},
     "output_type": "execute_result"
    }
   ],
   "source": [
    "a, b, c_in, sum_, c_out = [Wire() for _ in range(5)]\n",
    "toVHDL(adder_bit, a, b, c_in, sum_, c_out)"
   ]
  },
  {
   "cell_type": "code",
   "execution_count": 4,
   "metadata": {},
   "outputs": [
    {
     "data": {
      "text/plain": [
       "[<myhdl._always_comb._AlwaysComb at 0x468ff70>,\n",
       " <myhdl._always_comb._AlwaysComb at 0x469f090>,\n",
       " [<myhdl._always_comb._AlwaysComb at 0x469f290>,\n",
       "  <myhdl._always_comb._AlwaysComb at 0x469f110>,\n",
       "  <myhdl._always_comb._AlwaysComb at 0x469f1f0>,\n",
       "  <myhdl._always_comb._AlwaysComb at 0x469f0f0>,\n",
       "  <myhdl._always_comb._AlwaysComb at 0x469f2b0>,\n",
       "  <myhdl._always_comb._AlwaysComb at 0x469f5d0>,\n",
       "  <myhdl._always_comb._AlwaysComb at 0x469f710>],\n",
       " [<myhdl._always_comb._AlwaysComb at 0x47213b0>,\n",
       "  <myhdl._always_comb._AlwaysComb at 0x4721390>,\n",
       "  <myhdl._always_comb._AlwaysComb at 0x4721150>,\n",
       "  <myhdl._always_comb._AlwaysComb at 0x47219d0>,\n",
       "  <myhdl._always_comb._AlwaysComb at 0x47214b0>,\n",
       "  <myhdl._always_comb._AlwaysComb at 0x4721570>,\n",
       "  <myhdl._always_comb._AlwaysComb at 0x4721ab0>],\n",
       " [<myhdl._always_comb._AlwaysComb at 0x47215d0>,\n",
       "  <myhdl._always_comb._AlwaysComb at 0x4721b30>,\n",
       "  <myhdl._always_comb._AlwaysComb at 0x4721770>,\n",
       "  <myhdl._always_comb._AlwaysComb at 0x4721b90>,\n",
       "  <myhdl._always_comb._AlwaysComb at 0x4721710>,\n",
       "  <myhdl._always_comb._AlwaysComb at 0x4721ad0>,\n",
       "  <myhdl._always_comb._AlwaysComb at 0x4721c70>],\n",
       " [<myhdl._always_comb._AlwaysComb at 0x4721cf0>,\n",
       "  <myhdl._always_comb._AlwaysComb at 0x4721d70>,\n",
       "  <myhdl._always_comb._AlwaysComb at 0x4721df0>,\n",
       "  <myhdl._always_comb._AlwaysComb at 0x4721e70>,\n",
       "  <myhdl._always_comb._AlwaysComb at 0x4721ef0>,\n",
       "  <myhdl._always_comb._AlwaysComb at 0x4721f90>,\n",
       "  <myhdl._always_comb._AlwaysComb at 0x4721fd0>]]"
      ]
     },
     "execution_count": 4,
     "metadata": {},
     "output_type": "execute_result"
    }
   ],
   "source": [
    "sum_c_d_2 = Bus(4)\n",
    "toVHDL(adder, c, d, sum_c_d_2)"
   ]
  },
  {
   "cell_type": "code",
   "execution_count": 5,
   "metadata": {},
   "outputs": [
    {
     "data": {
      "text/plain": [
       "5"
      ]
     },
     "execution_count": 5,
     "metadata": {},
     "output_type": "execute_result"
    }
   ],
   "source": [
    "@group\n",
    "def unrolled_adder(a, b, sum_):\n",
    "    num_bits = len(a)\n",
    "    c = Bus(num_bits+1)\n",
    "    adder_bit(a(0), b(0), c(0), sum_.i[0], c.i[1])\n",
    "    adder_bit(a(1), b(1), c(1), sum_.i[1], c.i[2])\n",
    "    adder_bit(a(2), b(2), c(2), sum_.i[2], c.i[3])\n",
    "    adder_bit(a(3), b(3), c(3), sum_.i[3], c.i[4])\n",
    "    \n",
    "len(unrolled_adder(c, d, sum_c_d))"
   ]
  },
  {
   "cell_type": "code",
   "execution_count": 6,
   "metadata": {},
   "outputs": [
    {
     "data": {
      "text/plain": [
       "[<myhdl._always_comb._AlwaysComb at 0x4750230>,\n",
       " <myhdl._always_comb._AlwaysComb at 0x4721210>,\n",
       " [<myhdl._always_comb._AlwaysComb at 0x4721690>,\n",
       "  <myhdl._always_comb._AlwaysComb at 0x4721850>,\n",
       "  <myhdl._always_comb._AlwaysComb at 0x4721970>,\n",
       "  <myhdl._always_comb._AlwaysComb at 0x47217d0>,\n",
       "  <myhdl._always_comb._AlwaysComb at 0x4721410>,\n",
       "  <myhdl._always_comb._AlwaysComb at 0x55606f0>,\n",
       "  <myhdl._always_comb._AlwaysComb at 0x55607b0>],\n",
       " [<myhdl._always_comb._AlwaysComb at 0x5560830>,\n",
       "  <myhdl._always_comb._AlwaysComb at 0x5560790>,\n",
       "  <myhdl._always_comb._AlwaysComb at 0x55606d0>,\n",
       "  <myhdl._always_comb._AlwaysComb at 0x55606b0>,\n",
       "  <myhdl._always_comb._AlwaysComb at 0x5560950>,\n",
       "  <myhdl._always_comb._AlwaysComb at 0x55609d0>,\n",
       "  <myhdl._always_comb._AlwaysComb at 0x5560a50>],\n",
       " [<myhdl._always_comb._AlwaysComb at 0x5560ad0>,\n",
       "  <myhdl._always_comb._AlwaysComb at 0x5560b50>,\n",
       "  <myhdl._always_comb._AlwaysComb at 0x5560bd0>,\n",
       "  <myhdl._always_comb._AlwaysComb at 0x5560c50>,\n",
       "  <myhdl._always_comb._AlwaysComb at 0x5560cd0>,\n",
       "  <myhdl._always_comb._AlwaysComb at 0x5560d50>,\n",
       "  <myhdl._always_comb._AlwaysComb at 0x5560dd0>],\n",
       " [<myhdl._always_comb._AlwaysComb at 0x5560e50>,\n",
       "  <myhdl._always_comb._AlwaysComb at 0x5560f90>,\n",
       "  <myhdl._always_comb._AlwaysComb at 0x5560ff0>,\n",
       "  <myhdl._always_comb._AlwaysComb at 0x5560f70>,\n",
       "  <myhdl._always_comb._AlwaysComb at 0x4750270>,\n",
       "  <myhdl._always_comb._AlwaysComb at 0x4750ef0>,\n",
       "  <myhdl._always_comb._AlwaysComb at 0x4750710>]]"
      ]
     },
     "execution_count": 6,
     "metadata": {},
     "output_type": "execute_result"
    }
   ],
   "source": [
    "c, d, sum_c_d = [Bus(4,name) for name in 'c d c+d'.split()]\n",
    "toVHDL(unrolled_adder, c, d, sum_c_d)"
   ]
  },
  {
   "cell_type": "code",
   "execution_count": null,
   "metadata": {
    "collapsed": true
   },
   "outputs": [],
   "source": []
  }
 ],
 "metadata": {
  "kernelspec": {
   "display_name": "Python 3",
   "language": "python",
   "name": "python3"
  },
  "language_info": {
   "codemirror_mode": {
    "name": "ipython",
    "version": 3
   },
   "file_extension": ".py",
   "mimetype": "text/x-python",
   "name": "python",
   "nbconvert_exporter": "python",
   "pygments_lexer": "ipython3",
   "version": "3.5.2"
  }
 },
 "nbformat": 4,
 "nbformat_minor": 2
}
