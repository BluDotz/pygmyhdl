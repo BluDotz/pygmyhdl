{
 "cells": [
  {
   "cell_type": "code",
   "execution_count": 9,
   "metadata": {},
   "outputs": [
    {
     "name": "stderr",
     "output_type": "stream",
     "text": [
      "<class 'myhdl.StopSimulation'>: No more events\n"
     ]
    },
    {
     "data": {
      "text/html": [
       "<div><script type=\"WaveDrom\">{\"signal\": [{\"name\": \"a\", \"wave\": \"=...=...=...=...\", \"data\": [\"1\", \"2\", \"3\", \"4\"]}, {\"name\": \"a+b\", \"wave\": \"================\", \"data\": [\"3\", \"5\", \"7\", \"9\", \"4\", \"6\", \"8\", \"10\", \"5\", \"7\", \"9\", \"11\", \"6\", \"8\", \"10\", \"12\"]}, {\"name\": \"b\", \"wave\": \"================\", \"data\": [\"2\", \"4\", \"6\", \"8\", \"2\", \"4\", \"6\", \"8\", \"2\", \"4\", \"6\", \"8\", \"2\", \"4\", \"6\", \"8\"]}, {\"name\": \"c\", \"wave\": \"=...========.=.=\", \"data\": [\"0\", \"4\", \"0\", \"12\", \"0\", \"4\", \"0\", \"12\", \"0\", \"8\", \"0\"]}]}</script></div>"
      ]
     },
     "metadata": {},
     "output_type": "display_data"
    },
    {
     "data": {
      "application/javascript": [
       "$.getScript(\"http://wavedrom.com/wavedrom.min.js\", function () {\n",
       "$.getScript(\"http://wavedrom.com/skins/default.js\", function () {\n",
       "WaveDrom.ProcessAll();});\n",
       "});\n"
      ]
     },
     "metadata": {},
     "output_type": "display_data"
    }
   ],
   "source": [
    "from myhdl import *\n",
    "from pygmyhdl import *\n",
    "\n",
    "initialize()\n",
    "\n",
    "@group\n",
    "def adder_bit(a, b, c_in, sum_out, c_out):\n",
    "    sum_a_b = Wire()\n",
    "    xor_g(a, b, sum_a_b)\n",
    "    xor_g(c_in, sum_a_b, sum_out)\n",
    "    \n",
    "    cry_a_b, cry_a_c, cry_b_c, cry_1 = Wire(), Wire(), Wire(), Wire()\n",
    "    and_g(a, b, cry_a_b)\n",
    "    and_g(a, c_in, cry_a_c)\n",
    "    and_g(b, c_in, cry_b_c)\n",
    "    or_g(cry_a_b, cry_a_c, cry_1)\n",
    "    or_g(cry_b_c, cry_1, c_out)\n",
    "\n",
    "@group\n",
    "def adder(a, b, sum_out):\n",
    "    num_bits = len(a)\n",
    "    c = Bus(num_bits+1,1,'c')\n",
    "    for j in range(num_bits):\n",
    "        adder_bit(a.o[j], b.o[j], c.o[j], sum_out.i[j], c.i[j+1])\n",
    "    \n",
    "a, b, sum_a_b = [Bus(4,0,name) for name in 'a b a+b'.split()]\n",
    "adder_module = adder(a, b, sum_a_b)\n",
    "\n",
    "def test():\n",
    "    for a.next in [1, 2, 3, 4]:\n",
    "        for b.next in [2, 4, 6, 8]:\n",
    "            yield delay(1)\n",
    "            \n",
    "simulate(test())\n",
    "#random_sim(16,a,b)\n",
    "#show_waveforms('a b a+b')\n",
    "show_waveforms()"
   ]
  },
  {
   "cell_type": "code",
   "execution_count": 10,
   "metadata": {},
   "outputs": [
    {
     "data": {
      "text/plain": [
       "6"
      ]
     },
     "execution_count": 10,
     "metadata": {},
     "output_type": "execute_result"
    }
   ],
   "source": [
    "c, d, sum_c_d = [Bus(4,0,name) for name in 'c d c+d'.split()]\n",
    "len(adder(c, d, sum_c_d))"
   ]
  },
  {
   "cell_type": "code",
   "execution_count": 11,
   "metadata": {},
   "outputs": [
    {
     "data": {
      "text/plain": [
       "[<myhdl._always_comb._AlwaysComb at 0x49e6470>,\n",
       " <myhdl._always_comb._AlwaysComb at 0x49e6390>,\n",
       " <myhdl._always_comb._AlwaysComb at 0x49e6590>,\n",
       " <myhdl._always_comb._AlwaysComb at 0x49e6570>,\n",
       " <myhdl._always_comb._AlwaysComb at 0x49e6450>,\n",
       " <myhdl._always_comb._AlwaysComb at 0x49e6530>,\n",
       " <myhdl._always_comb._AlwaysComb at 0x49e6430>]"
      ]
     },
     "execution_count": 11,
     "metadata": {},
     "output_type": "execute_result"
    }
   ],
   "source": [
    "a, b, c_in, sum_, c_out = [Wire() for _ in range(5)]\n",
    "toVHDL(adder_bit, a, b, c_in, sum_, c_out)"
   ]
  },
  {
   "cell_type": "code",
   "execution_count": 12,
   "metadata": {},
   "outputs": [
    {
     "data": {
      "text/plain": [
       "[<myhdl._always_comb._AlwaysComb at 0x49e6650>,\n",
       " <myhdl._always_comb._AlwaysComb at 0x49f6b10>,\n",
       " [<myhdl._always_comb._AlwaysComb at 0x49f6250>,\n",
       "  <myhdl._always_comb._AlwaysComb at 0x49d99b0>,\n",
       "  <myhdl._always_comb._AlwaysComb at 0x49f6130>,\n",
       "  <myhdl._always_comb._AlwaysComb at 0x49f6c50>,\n",
       "  <myhdl._always_comb._AlwaysComb at 0x49f6290>,\n",
       "  <myhdl._always_comb._AlwaysComb at 0x49f6c70>,\n",
       "  <myhdl._always_comb._AlwaysComb at 0x49f61b0>],\n",
       " [<myhdl._always_comb._AlwaysComb at 0x49f6cd0>,\n",
       "  <myhdl._always_comb._AlwaysComb at 0x49f6d30>,\n",
       "  <myhdl._always_comb._AlwaysComb at 0x49f6c10>,\n",
       "  <myhdl._always_comb._AlwaysComb at 0x49f63d0>,\n",
       "  <myhdl._always_comb._AlwaysComb at 0x49f6330>,\n",
       "  <myhdl._always_comb._AlwaysComb at 0x49f6d90>,\n",
       "  <myhdl._always_comb._AlwaysComb at 0x49f64d0>],\n",
       " [<myhdl._always_comb._AlwaysComb at 0x49f6e70>,\n",
       "  <myhdl._always_comb._AlwaysComb at 0x49f6530>,\n",
       "  <myhdl._always_comb._AlwaysComb at 0x4953ed0>,\n",
       "  <myhdl._always_comb._AlwaysComb at 0x49f1bd0>,\n",
       "  <myhdl._always_comb._AlwaysComb at 0x49f1b70>,\n",
       "  <myhdl._always_comb._AlwaysComb at 0x49f1c70>,\n",
       "  <myhdl._always_comb._AlwaysComb at 0x49f1a90>],\n",
       " [<myhdl._always_comb._AlwaysComb at 0x49f1a50>,\n",
       "  <myhdl._always_comb._AlwaysComb at 0x49f1950>,\n",
       "  <myhdl._always_comb._AlwaysComb at 0x49f1af0>,\n",
       "  <myhdl._always_comb._AlwaysComb at 0x49f1d90>,\n",
       "  <myhdl._always_comb._AlwaysComb at 0x49f1bb0>,\n",
       "  <myhdl._always_comb._AlwaysComb at 0x45141d0>,\n",
       "  <myhdl._always_comb._AlwaysComb at 0x4514210>]]"
      ]
     },
     "execution_count": 12,
     "metadata": {},
     "output_type": "execute_result"
    }
   ],
   "source": [
    "sum_c_d_2 = Bus(4)\n",
    "toVHDL(adder, c, d, sum_c_d_2)"
   ]
  },
  {
   "cell_type": "code",
   "execution_count": 13,
   "metadata": {},
   "outputs": [
    {
     "data": {
      "text/plain": [
       "5"
      ]
     },
     "execution_count": 13,
     "metadata": {},
     "output_type": "execute_result"
    }
   ],
   "source": [
    "@group\n",
    "def unrolled_adder(a, b, sum_):\n",
    "    num_bits = len(a)\n",
    "    c = Bus(num_bits+1)\n",
    "    adder_bit(a(0), b(0), c(0), sum_.i[0], c.i[1])\n",
    "    adder_bit(a(1), b(1), c(1), sum_.i[1], c.i[2])\n",
    "    adder_bit(a(2), b(2), c(2), sum_.i[2], c.i[3])\n",
    "    adder_bit(a(3), b(3), c(3), sum_.i[3], c.i[4])\n",
    "    \n",
    "len(unrolled_adder(c, d, sum_c_d))"
   ]
  },
  {
   "cell_type": "code",
   "execution_count": 14,
   "metadata": {},
   "outputs": [
    {
     "data": {
      "text/plain": [
       "[<myhdl._always_comb._AlwaysComb at 0x49cfbd0>,\n",
       " <myhdl._always_comb._AlwaysComb at 0x49cf9d0>,\n",
       " [<myhdl._always_comb._AlwaysComb at 0x49cf470>,\n",
       "  <myhdl._always_comb._AlwaysComb at 0x49cfc90>,\n",
       "  <myhdl._always_comb._AlwaysComb at 0x49cfe30>,\n",
       "  <myhdl._always_comb._AlwaysComb at 0x49cfb10>,\n",
       "  <myhdl._always_comb._AlwaysComb at 0x49cfd50>,\n",
       "  <myhdl._always_comb._AlwaysComb at 0x49cfe50>,\n",
       "  <myhdl._always_comb._AlwaysComb at 0x49cffd0>],\n",
       " [<myhdl._always_comb._AlwaysComb at 0x49cffb0>,\n",
       "  <myhdl._always_comb._AlwaysComb at 0x490de70>,\n",
       "  <myhdl._always_comb._AlwaysComb at 0x490dfb0>,\n",
       "  <myhdl._always_comb._AlwaysComb at 0x495f4b0>,\n",
       "  <myhdl._always_comb._AlwaysComb at 0x495f370>,\n",
       "  <myhdl._always_comb._AlwaysComb at 0x495f090>,\n",
       "  <myhdl._always_comb._AlwaysComb at 0x495f2f0>],\n",
       " [<myhdl._always_comb._AlwaysComb at 0x495f2b0>,\n",
       "  <myhdl._always_comb._AlwaysComb at 0x499a590>,\n",
       "  <myhdl._always_comb._AlwaysComb at 0x499ac90>,\n",
       "  <myhdl._always_comb._AlwaysComb at 0x499afb0>,\n",
       "  <myhdl._always_comb._AlwaysComb at 0x499adf0>,\n",
       "  <myhdl._always_comb._AlwaysComb at 0x499a950>,\n",
       "  <myhdl._always_comb._AlwaysComb at 0x499a4b0>],\n",
       " [<myhdl._always_comb._AlwaysComb at 0x492aad0>,\n",
       "  <myhdl._always_comb._AlwaysComb at 0x492a270>,\n",
       "  <myhdl._always_comb._AlwaysComb at 0x492a9f0>,\n",
       "  <myhdl._always_comb._AlwaysComb at 0x492a350>,\n",
       "  <myhdl._always_comb._AlwaysComb at 0x49d5230>,\n",
       "  <myhdl._always_comb._AlwaysComb at 0x49d5dd0>,\n",
       "  <myhdl._always_comb._AlwaysComb at 0x49d5090>]]"
      ]
     },
     "execution_count": 14,
     "metadata": {},
     "output_type": "execute_result"
    }
   ],
   "source": [
    "c, d, sum_c_d = [Bus(4,0,name) for name in 'c d c+d'.split()]\n",
    "toVerilog(unrolled_adder, c, d, sum_c_d)"
   ]
  },
  {
   "cell_type": "code",
   "execution_count": null,
   "metadata": {
    "collapsed": true
   },
   "outputs": [],
   "source": []
  }
 ],
 "metadata": {
  "kernelspec": {
   "display_name": "Python 3",
   "language": "python",
   "name": "python3"
  },
  "language_info": {
   "codemirror_mode": {
    "name": "ipython",
    "version": 3
   },
   "file_extension": ".py",
   "mimetype": "text/x-python",
   "name": "python",
   "nbconvert_exporter": "python",
   "pygments_lexer": "ipython3",
   "version": "3.5.2"
  }
 },
 "nbformat": 4,
 "nbformat_minor": 2
}
