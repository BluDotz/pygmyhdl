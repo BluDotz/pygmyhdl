{
 "cells": [
  {
   "cell_type": "code",
   "execution_count": 1,
   "metadata": {},
   "outputs": [
    {
     "name": "stderr",
     "output_type": "stream",
     "text": [
      "<class 'myhdl.StopSimulation'>: No more events\n"
     ]
    },
    {
     "data": {
      "text/html": [
       "<div><script type=\"WaveDrom\">{\"signal\": [{\"data\": [\"1\", \"2\", \"3\", \"4\"], \"name\": \"a\", \"wave\": \"=...=...=...=...\"}, {\"data\": [\"2\", \"4\", \"6\", \"8\", \"2\", \"4\", \"6\", \"8\", \"2\", \"4\", \"6\", \"8\", \"2\", \"4\", \"6\", \"8\"], \"name\": \"b\", \"wave\": \"================\"}, {\"data\": [\"3\", \"5\", \"7\", \"9\", \"4\", \"6\", \"8\", \"10\", \"5\", \"7\", \"9\", \"11\", \"6\", \"8\", \"10\", \"12\"], \"name\": \"a+b\", \"wave\": \"================\"}]}</script></div>"
      ]
     },
     "metadata": {},
     "output_type": "display_data"
    },
    {
     "data": {
      "application/javascript": [
       "$.getScript(\"http://wavedrom.com/wavedrom.min.js\", function () {\n",
       "$.getScript(\"http://wavedrom.com/skins/default.js\", function () {\n",
       "WaveDrom.ProcessAll();});\n",
       "});\n"
      ]
     },
     "metadata": {},
     "output_type": "display_data"
    }
   ],
   "source": [
    "from myhdl import *\n",
    "from pygmyhdl import *\n",
    "\n",
    "initialize()\n",
    "\n",
    "@group\n",
    "def adder_bit(a, b, c_in, sum_out, c_out):\n",
    "    sum_a_b = Wire()\n",
    "    xor_g(a, b, sum_a_b)\n",
    "    xor_g(c_in, sum_a_b, sum_out)\n",
    "    \n",
    "    cry_a_b, cry_a_c, cry_b_c, cry_1 = Wire(), Wire(), Wire(), Wire()\n",
    "    and_g(a, b, cry_a_b)\n",
    "    and_g(a, c_in, cry_a_c)\n",
    "    and_g(b, c_in, cry_b_c)\n",
    "    or_g(cry_a_b, cry_a_c, cry_1)\n",
    "    or_g(cry_b_c, cry_1, c_out)\n",
    "\n",
    "@group\n",
    "def adder(a, b, sum_out):\n",
    "    num_bits = len(a)\n",
    "    c = Bus(num_bits+1)\n",
    "    for j in range(num_bits):\n",
    "        adder_bit(a(j), b(j), c(j), sum_out.i[j], c.i[j+1])\n",
    "    \n",
    "a, b, sum_a_b = [Bus(4,name) for name in 'a b a+b'.split()]\n",
    "adder_module = adder(a, b, sum_a_b)\n",
    "\n",
    "def test():\n",
    "    for a.next in [1, 2, 3, 4]:\n",
    "        for b.next in [2, 4, 6, 8]:\n",
    "            yield delay(1)\n",
    "            \n",
    "simulate(test())\n",
    "#random_sim(16,a,b)\n",
    "show_waveforms('a b a+b')"
   ]
  },
  {
   "cell_type": "code",
   "execution_count": 2,
   "metadata": {},
   "outputs": [
    {
     "data": {
      "text/plain": [
       "6"
      ]
     },
     "execution_count": 2,
     "metadata": {},
     "output_type": "execute_result"
    }
   ],
   "source": [
    "c, d, sum_c_d = [Bus(4,name) for name in 'c d c+d'.split()]\n",
    "len(adder(c, d, sum_c_d))"
   ]
  },
  {
   "cell_type": "code",
   "execution_count": 3,
   "metadata": {},
   "outputs": [
    {
     "data": {
      "text/plain": [
       "[<myhdl._always_comb._AlwaysComb at 0x483cdd0>,\n",
       " <myhdl._always_comb._AlwaysComb at 0x483cf70>,\n",
       " <myhdl._always_comb._AlwaysComb at 0x483cc90>,\n",
       " <myhdl._always_comb._AlwaysComb at 0x3f939d0>,\n",
       " <myhdl._always_comb._AlwaysComb at 0x483cf90>,\n",
       " <myhdl._always_comb._AlwaysComb at 0x483cbb0>,\n",
       " <myhdl._always_comb._AlwaysComb at 0x483ce70>]"
      ]
     },
     "execution_count": 3,
     "metadata": {},
     "output_type": "execute_result"
    }
   ],
   "source": [
    "a, b, c_in, sum_, c_out = [Wire() for _ in range(5)]\n",
    "toVHDL(adder_bit, a, b, c_in, sum_, c_out)"
   ]
  },
  {
   "cell_type": "code",
   "execution_count": 6,
   "metadata": {},
   "outputs": [
    {
     "data": {
      "text/plain": [
       "[<myhdl._always_comb._AlwaysComb at 0x48b3f10>,\n",
       " <myhdl._always_comb._AlwaysComb at 0x48b3190>,\n",
       " [<myhdl._always_comb._AlwaysComb at 0x48b3150>,\n",
       "  <myhdl._always_comb._AlwaysComb at 0x48b31b0>,\n",
       "  <myhdl._always_comb._AlwaysComb at 0x48b3230>,\n",
       "  <myhdl._always_comb._AlwaysComb at 0x48b30b0>,\n",
       "  <myhdl._always_comb._AlwaysComb at 0x3f93930>,\n",
       "  <myhdl._always_comb._AlwaysComb at 0x3f939f0>,\n",
       "  <myhdl._always_comb._AlwaysComb at 0x48b3bb0>],\n",
       " [<myhdl._always_comb._AlwaysComb at 0x48b3630>,\n",
       "  <myhdl._always_comb._AlwaysComb at 0x48b35b0>,\n",
       "  <myhdl._always_comb._AlwaysComb at 0x48b3530>,\n",
       "  <myhdl._always_comb._AlwaysComb at 0x48b34b0>,\n",
       "  <myhdl._always_comb._AlwaysComb at 0x48b3450>,\n",
       "  <myhdl._always_comb._AlwaysComb at 0x48b3470>,\n",
       "  <myhdl._always_comb._AlwaysComb at 0x48b34f0>],\n",
       " [<myhdl._always_comb._AlwaysComb at 0x48b3330>,\n",
       "  <myhdl._always_comb._AlwaysComb at 0x48b9af0>,\n",
       "  <myhdl._always_comb._AlwaysComb at 0x48b9a50>,\n",
       "  <myhdl._always_comb._AlwaysComb at 0x48b98f0>,\n",
       "  <myhdl._always_comb._AlwaysComb at 0x48b9430>,\n",
       "  <myhdl._always_comb._AlwaysComb at 0x48b9550>,\n",
       "  <myhdl._always_comb._AlwaysComb at 0x48b94f0>],\n",
       " [<myhdl._always_comb._AlwaysComb at 0x48b9610>,\n",
       "  <myhdl._always_comb._AlwaysComb at 0x48b96b0>,\n",
       "  <myhdl._always_comb._AlwaysComb at 0x48b9750>,\n",
       "  <myhdl._always_comb._AlwaysComb at 0x48b9790>,\n",
       "  <myhdl._always_comb._AlwaysComb at 0x48b97f0>,\n",
       "  <myhdl._always_comb._AlwaysComb at 0x48b9890>,\n",
       "  <myhdl._always_comb._AlwaysComb at 0x48b9850>]]"
      ]
     },
     "execution_count": 6,
     "metadata": {},
     "output_type": "execute_result"
    }
   ],
   "source": [
    "sum_c_d_2 = Bus(4)\n",
    "toVHDL(adder, c, d, sum_c_d_2)"
   ]
  },
  {
   "cell_type": "code",
   "execution_count": 7,
   "metadata": {},
   "outputs": [
    {
     "data": {
      "text/plain": [
       "5"
      ]
     },
     "execution_count": 7,
     "metadata": {},
     "output_type": "execute_result"
    }
   ],
   "source": [
    "@group\n",
    "def unrolled_adder(a, b, sum_):\n",
    "    num_bits = len(a)\n",
    "    c = Bus(num_bits+1)\n",
    "    adder_bit(a(0), b(0), c(0), sum_.i[0], c.i[1])\n",
    "    adder_bit(a(1), b(1), c(1), sum_.i[1], c.i[2])\n",
    "    adder_bit(a(2), b(2), c(2), sum_.i[2], c.i[3])\n",
    "    adder_bit(a(3), b(3), c(3), sum_.i[3], c.i[4])\n",
    "    \n",
    "len(unrolled_adder(c, d, sum_c_d))"
   ]
  },
  {
   "cell_type": "code",
   "execution_count": 8,
   "metadata": {},
   "outputs": [
    {
     "data": {
      "text/plain": [
       "[<myhdl._always_comb._AlwaysComb at 0x48b3db0>,\n",
       " <myhdl._always_comb._AlwaysComb at 0x48b3d10>,\n",
       " [<myhdl._always_comb._AlwaysComb at 0x48b3ab0>,\n",
       "  <myhdl._always_comb._AlwaysComb at 0x53a4290>,\n",
       "  <myhdl._always_comb._AlwaysComb at 0x53a43d0>,\n",
       "  <myhdl._always_comb._AlwaysComb at 0x53a4370>,\n",
       "  <myhdl._always_comb._AlwaysComb at 0x53a4390>,\n",
       "  <myhdl._always_comb._AlwaysComb at 0x53a4430>,\n",
       "  <myhdl._always_comb._AlwaysComb at 0x53a4510>],\n",
       " [<myhdl._always_comb._AlwaysComb at 0x53a43f0>,\n",
       "  <myhdl._always_comb._AlwaysComb at 0x53a4610>,\n",
       "  <myhdl._always_comb._AlwaysComb at 0x53a46d0>,\n",
       "  <myhdl._always_comb._AlwaysComb at 0x53a4570>,\n",
       "  <myhdl._always_comb._AlwaysComb at 0x53a4530>,\n",
       "  <myhdl._always_comb._AlwaysComb at 0x539b450>,\n",
       "  <myhdl._always_comb._AlwaysComb at 0x539b550>],\n",
       " [<myhdl._always_comb._AlwaysComb at 0x539b5d0>,\n",
       "  <myhdl._always_comb._AlwaysComb at 0x539b650>,\n",
       "  <myhdl._always_comb._AlwaysComb at 0x539b6d0>,\n",
       "  <myhdl._always_comb._AlwaysComb at 0x539b750>,\n",
       "  <myhdl._always_comb._AlwaysComb at 0x539b7d0>,\n",
       "  <myhdl._always_comb._AlwaysComb at 0x539b850>,\n",
       "  <myhdl._always_comb._AlwaysComb at 0x539b8d0>],\n",
       " [<myhdl._always_comb._AlwaysComb at 0x539b950>,\n",
       "  <myhdl._always_comb._AlwaysComb at 0x539b9d0>,\n",
       "  <myhdl._always_comb._AlwaysComb at 0x539ba50>,\n",
       "  <myhdl._always_comb._AlwaysComb at 0x539bad0>,\n",
       "  <myhdl._always_comb._AlwaysComb at 0x539bb50>,\n",
       "  <myhdl._always_comb._AlwaysComb at 0x539bbd0>,\n",
       "  <myhdl._always_comb._AlwaysComb at 0x539bc50>]]"
      ]
     },
     "execution_count": 8,
     "metadata": {},
     "output_type": "execute_result"
    }
   ],
   "source": [
    "c, d, sum_c_d = [Bus(4,name) for name in 'c d c+d'.split()]\n",
    "toVHDL(unrolled_adder, c, d, sum_c_d)"
   ]
  }
 ],
 "metadata": {
  "kernelspec": {
   "display_name": "Python 3",
   "language": "python",
   "name": "python3"
  },
  "language_info": {
   "codemirror_mode": {
    "name": "ipython",
    "version": 3
   },
   "file_extension": ".py",
   "mimetype": "text/x-python",
   "name": "python",
   "nbconvert_exporter": "python",
   "pygments_lexer": "ipython3",
   "version": "3.5.2"
  }
 },
 "nbformat": 4,
 "nbformat_minor": 2
}
