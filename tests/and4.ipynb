{
 "cells": [
  {
   "cell_type": "code",
   "execution_count": 1,
   "metadata": {},
   "outputs": [
    {
     "name": "stderr",
     "output_type": "stream",
     "text": [
      "<class 'myhdl.StopSimulation'>: No more events\n"
     ]
    },
    {
     "data": {
      "text/html": [
       "<div><script type=\"WaveDrom\">{\"signal\": [{\"name\": \"a\", \"wave\": \"0.......1.......\"}, {\"name\": \"b\", \"wave\": \"0...1...0...1...\"}, {\"name\": \"c\", \"wave\": \"0.1.0.1.0.1.0.1.\"}, {\"name\": \"d\", \"wave\": \"0101010101010101\"}, {\"name\": \"result\", \"wave\": \"0..............1\"}]}</script></div>"
      ]
     },
     "metadata": {},
     "output_type": "display_data"
    },
    {
     "data": {
      "application/javascript": [
       "$.getScript(\"http://wavedrom.com/wavedrom.min.js\", function () {\n",
       "$.getScript(\"http://wavedrom.com/skins/default.js\", function () {\n",
       "WaveDrom.ProcessAll();});\n",
       "});\n"
      ]
     },
     "metadata": {},
     "output_type": "display_data"
    }
   ],
   "source": [
    "from myhdl import *\n",
    "from pygmyhdl import *\n",
    "\n",
    "initialize()\n",
    "\n",
    "@group\n",
    "def and4_g(in0, in1, in2, in3, out):\n",
    "    out_0_1, out_2_3 = Wire(), Wire()\n",
    "    and_g(in0, in1, out_0_1)\n",
    "    and_g(in2, in3, out_2_3)\n",
    "    and_g(out_0_1, out_2_3, out)\n",
    "    \n",
    "a, b, c, d, result = [Wire(name) for name in 'a b c d result'.split()]\n",
    "and4_g(a, b, c, d, result)\n",
    "\n",
    "exhaustive_sim(a, b, c, d)\n",
    "show_waveforms()"
   ]
  },
  {
   "cell_type": "code",
   "execution_count": 2,
   "metadata": {},
   "outputs": [
    {
     "name": "stdout",
     "output_type": "stream",
     "text": [
      "[<myhdl._always_comb._AlwaysComb object at 0x045A4670>, <myhdl._always_comb._AlwaysComb object at 0x045A42B0>, <myhdl._always_comb._AlwaysComb object at 0x045A4810>]\n"
     ]
    }
   ],
   "source": [
    "print(pygmyhdl._instances)"
   ]
  },
  {
   "cell_type": "code",
   "execution_count": 3,
   "metadata": {},
   "outputs": [
    {
     "name": "stdout",
     "output_type": "stream",
     "text": [
      "[<myhdl._always_comb._AlwaysComb object at 0x04074730>, <myhdl._always_comb._AlwaysComb object at 0x04074770>, <myhdl._always_comb._AlwaysComb object at 0x04074870>]\n"
     ]
    }
   ],
   "source": [
    "initialize()\n",
    "print(and4_g(a, b, c, d, result))"
   ]
  },
  {
   "cell_type": "code",
   "execution_count": 4,
   "metadata": {},
   "outputs": [
    {
     "data": {
      "text/plain": [
       "[<myhdl._always_comb._AlwaysComb at 0x40749d0>,\n",
       " <myhdl._always_comb._AlwaysComb at 0x4074d10>,\n",
       " <myhdl._always_comb._AlwaysComb at 0x4074bf0>]"
      ]
     },
     "execution_count": 4,
     "metadata": {},
     "output_type": "execute_result"
    }
   ],
   "source": [
    "a, b, c, d, q = [Signal(bool(0)) for _ in range(5)]\n",
    "toVHDL(and4_g, a, b, c, d, q)"
   ]
  },
  {
   "cell_type": "code",
   "execution_count": null,
   "metadata": {
    "collapsed": true
   },
   "outputs": [],
   "source": []
  }
 ],
 "metadata": {
  "kernelspec": {
   "display_name": "Python 3",
   "language": "python",
   "name": "python3"
  },
  "language_info": {
   "codemirror_mode": {
    "name": "ipython",
    "version": 3
   },
   "file_extension": ".py",
   "mimetype": "text/x-python",
   "name": "python",
   "nbconvert_exporter": "python",
   "pygments_lexer": "ipython3",
   "version": "3.5.2"
  }
 },
 "nbformat": 4,
 "nbformat_minor": 2
}
