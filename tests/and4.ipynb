{
 "cells": [
  {
   "cell_type": "code",
   "execution_count": null,
   "metadata": {},
   "outputs": [],
   "source": [
    "from myhdl import *\n",
    "from pygmyhdl import *\n",
    "\n",
    "initialize()\n",
    "\n",
    "@block\n",
    "@group\n",
    "def and4_g(in0, in1, in2, in3, out):\n",
    "    out_0_1, out_2_3 = Wire(), Wire()\n",
    "    and_g(in0, in1, out_0_1)\n",
    "    and_g(in2, in3, out_2_3)\n",
    "    and_g(out_0_1, out_2_3, out)\n",
    "    \n",
    "a, b, c, d, result = [Wire(name) for name in 'a b c d result'.split()]\n",
    "and4_g(a, b, c, d, result)\n",
    "\n",
    "exhaustive_sim(a, b, c, d)\n",
    "show_waveforms()"
   ]
  },
  {
   "cell_type": "code",
   "execution_count": 6,
   "metadata": {},
   "outputs": [
    {
     "name": "stdout",
     "output_type": "stream",
     "text": [
      "[<myhdl._block._Block object at 0x04678490>, <myhdl._block._Block object at 0x03F67830>]\n",
      "<myhdl._block._Block object at 0x04678430>\n"
     ]
    }
   ],
   "source": [
    "from myhdl import *\n",
    "from pygmyhdl import *\n",
    "\n",
    "initialize()\n",
    "\n",
    "@block\n",
    "def and3_g(a, b, c, o):\n",
    "    o_a_b = Wire()\n",
    "    g1 = and_g(a, b, o_a_b)\n",
    "    g2 = and_g(c, o_a_b, o)\n",
    "    print(instances())\n",
    "    return instances()\n",
    "\n",
    "#w, x, y, z, r = [Signal(bool(0)) for _ in range(5)]\n",
    "w, x, y, z, r = [Wire() for _ in range(5)]\n",
    "g1 = and3_g(w, x, y, r)\n",
    "print(g1)\n",
    "#and3_g(w, x, y, r).convert()"
   ]
  },
  {
   "cell_type": "code",
   "execution_count": null,
   "metadata": {},
   "outputs": [],
   "source": [
    "initialize()\n",
    "\n",
    "w, x, y, z, r = [Wire() for _ in range(5)]\n",
    "\n",
    "#and_g(w, x, r).convert()\n",
    "and4_g(w, x, y, z, r).convert()"
   ]
  },
  {
   "cell_type": "code",
   "execution_count": 4,
   "metadata": {},
   "outputs": [
    {
     "name": "stdout",
     "output_type": "stream",
     "text": [
      "[<myhdl._always_comb._AlwaysComb object at 0x0466EC70>, <myhdl._always_comb._AlwaysComb object at 0x03F604B0>, <myhdl._always_comb._AlwaysComb object at 0x03F60590>]\n"
     ]
    },
    {
     "ename": "AttributeError",
     "evalue": "'list' object has no attribute 'convert'",
     "output_type": "error",
     "traceback": [
      "\u001b[1;31m---------------------------------------------------------------------------\u001b[0m",
      "\u001b[1;31mAttributeError\u001b[0m                            Traceback (most recent call last)",
      "\u001b[1;32m<ipython-input-4-7927c3723273>\u001b[0m in \u001b[0;36m<module>\u001b[1;34m()\u001b[0m\n\u001b[0;32m     14\u001b[0m \u001b[0mg1\u001b[0m \u001b[1;33m=\u001b[0m \u001b[0mand4_g\u001b[0m\u001b[1;33m(\u001b[0m\u001b[0ma\u001b[0m\u001b[1;33m,\u001b[0m \u001b[0mb\u001b[0m\u001b[1;33m,\u001b[0m \u001b[0mc\u001b[0m\u001b[1;33m,\u001b[0m \u001b[0md\u001b[0m\u001b[1;33m,\u001b[0m \u001b[0mresult\u001b[0m\u001b[1;33m)\u001b[0m\u001b[1;33m\u001b[0m\u001b[0m\n\u001b[0;32m     15\u001b[0m \u001b[0mprint\u001b[0m\u001b[1;33m(\u001b[0m\u001b[0mg1\u001b[0m\u001b[1;33m)\u001b[0m\u001b[1;33m\u001b[0m\u001b[0m\n\u001b[1;32m---> 16\u001b[1;33m \u001b[0mg1\u001b[0m\u001b[1;33m.\u001b[0m\u001b[0mconvert\u001b[0m\u001b[1;33m(\u001b[0m\u001b[1;33m)\u001b[0m\u001b[1;33m\u001b[0m\u001b[0m\n\u001b[0m",
      "\u001b[1;31mAttributeError\u001b[0m: 'list' object has no attribute 'convert'"
     ]
    }
   ],
   "source": [
    "from myhdl import *\n",
    "from pygmyhdl import *\n",
    "\n",
    "initialize()\n",
    "\n",
    "@group\n",
    "def and4_g(in0, in1, in2, in3, out):\n",
    "    out_0_1, out_2_3 = Wire(), Wire()\n",
    "    and_g(in0, in1, out_0_1)\n",
    "    and_g(in2, in3, out_2_3)\n",
    "    and_g(out_0_1, out_2_3, out)\n",
    "    \n",
    "a, b, c, d, result = [Signal(bool(0)) for name in 'a b c d result'.split()]\n",
    "g1 = and4_g(a, b, c, d, result)\n",
    "print(g1)\n",
    "g1.convert()"
   ]
  },
  {
   "cell_type": "code",
   "execution_count": null,
   "metadata": {
    "collapsed": true
   },
   "outputs": [],
   "source": []
  }
 ],
 "metadata": {
  "kernelspec": {
   "display_name": "Python 3",
   "language": "python",
   "name": "python3"
  },
  "language_info": {
   "codemirror_mode": {
    "name": "ipython",
    "version": 3
   },
   "file_extension": ".py",
   "mimetype": "text/x-python",
   "name": "python",
   "nbconvert_exporter": "python",
   "pygments_lexer": "ipython3",
   "version": "3.5.2"
  }
 },
 "nbformat": 4,
 "nbformat_minor": 2
}
